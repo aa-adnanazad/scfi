{
  "cells": [
    {
      "cell_type": "code",
      "source": [
        "import pandas as pd\n",
        "df_SCFI = pd.read_csv(r'scfi.csv')\n",
        "df_SCFI"
      ],
      "outputs": [
        {
          "output_type": "display_data",
          "data": {
            "application/vnd.dataresource+json": {
              "schema": {
                "fields": [
                  {
                    "name": "index",
                    "type": "integer"
                  },
                  {
                    "name": "Date",
                    "type": "string"
                  },
                  {
                    "name": "Value",
                    "type": "number"
                  }
                ],
                "primaryKey": [
                  "index"
                ],
                "pandas_version": "1.4.0"
              },
              "data": [
                {
                  "index": 0,
                  "Date": "2/4/2021",
                  "Value": 2585.42
                },
                {
                  "index": 1,
                  "Date": "9/4/2021",
                  "Value": 2652.12
                },
                {
                  "index": 2,
                  "Date": "16/4/2021",
                  "Value": 2833.42
                },
                {
                  "index": 3,
                  "Date": "23/4/2021",
                  "Value": 2979.76
                },
                {
                  "index": 4,
                  "Date": "30/4/2021",
                  "Value": 3100.74
                },
                {
                  "index": 5,
                  "Date": "7/5/2021",
                  "Value": 3095.16
                },
                {
                  "index": 6,
                  "Date": "14/5/2021",
                  "Value": 3343.34
                },
                {
                  "index": 7,
                  "Date": "21/5/2021",
                  "Value": 3432.5
                },
                {
                  "index": 8,
                  "Date": "28/5/2021",
                  "Value": 3495.76
                },
                {
                  "index": 9,
                  "Date": "4/6/2021",
                  "Value": 3613.07
                },
                {
                  "index": 10,
                  "Date": "11/6/2021",
                  "Value": 3703.93
                },
                {
                  "index": 11,
                  "Date": "18/6/2021",
                  "Value": 3748.36
                },
                {
                  "index": 12,
                  "Date": "25/6/2021",
                  "Value": 3785.4
                },
                {
                  "index": 13,
                  "Date": "2/7/2021",
                  "Value": 3905.14
                },
                {
                  "index": 14,
                  "Date": "9/7/2021",
                  "Value": 3932.35
                },
                {
                  "index": 15,
                  "Date": "16/7/2021",
                  "Value": 4054.42
                },
                {
                  "index": 16,
                  "Date": "23/7/2021",
                  "Value": 4100
                },
                {
                  "index": 17,
                  "Date": "30/7/2021",
                  "Value": 4196.24
                },
                {
                  "index": 18,
                  "Date": "6/8/2021",
                  "Value": 4225.86
                },
                {
                  "index": 19,
                  "Date": "13/8/2021",
                  "Value": 4281.53
                },
                {
                  "index": 20,
                  "Date": "20/8/2021",
                  "Value": 4340.18
                },
                {
                  "index": 21,
                  "Date": "27/8/2021",
                  "Value": 4385.62
                },
                {
                  "index": 22,
                  "Date": "3/9/2021",
                  "Value": 4502.65
                },
                {
                  "index": 23,
                  "Date": "10/9/2021",
                  "Value": 4568.16
                },
                {
                  "index": 24,
                  "Date": "17/9/2021",
                  "Value": 4622.51
                },
                {
                  "index": 25,
                  "Date": "24/9/2021",
                  "Value": 4643.79
                },
                {
                  "index": 26,
                  "Date": "30/9/2021",
                  "Value": 4614.1
                },
                {
                  "index": 27,
                  "Date": "8/10/2021",
                  "Value": 4647.6
                },
                {
                  "index": 28,
                  "Date": "15/10/2021",
                  "Value": 4588.07
                },
                {
                  "index": 29,
                  "Date": "22/10/2021",
                  "Value": 4583.39
                },
                {
                  "index": 30,
                  "Date": "29/10/2021",
                  "Value": 4567.28
                },
                {
                  "index": 31,
                  "Date": "5/11/2021",
                  "Value": 4535.92
                },
                {
                  "index": 32,
                  "Date": "12/11/2021",
                  "Value": 4554.04
                },
                {
                  "index": 33,
                  "Date": "19/11/2021",
                  "Value": 4555.21
                },
                {
                  "index": 34,
                  "Date": "26/11/2021",
                  "Value": 4601.97
                },
                {
                  "index": 35,
                  "Date": "3/12/2021",
                  "Value": 4727.06
                },
                {
                  "index": 36,
                  "Date": "10/12/2021",
                  "Value": 4810.98
                },
                {
                  "index": 37,
                  "Date": "17/12/2021",
                  "Value": 4894.62
                },
                {
                  "index": 38,
                  "Date": "24/12/2021",
                  "Value": 4956.02
                },
                {
                  "index": 39,
                  "Date": "31/12/2021",
                  "Value": 5046.66
                },
                {
                  "index": 40,
                  "Date": "7/1/2022",
                  "Value": 5109.6
                },
                {
                  "index": 41,
                  "Date": "14/1/2022",
                  "Value": 5094.36
                },
                {
                  "index": 42,
                  "Date": "21/1/2022",
                  "Value": 5053.12
                },
                {
                  "index": 43,
                  "Date": "28/1/2022",
                  "Value": 5010.36
                },
                {
                  "index": 44,
                  "Date": "11/2/2022",
                  "Value": 4980.93
                },
                {
                  "index": 45,
                  "Date": "18/2/2022",
                  "Value": 4946.01
                },
                {
                  "index": 46,
                  "Date": "25/2/2022",
                  "Value": 4818.47
                },
                {
                  "index": 47,
                  "Date": "4/3/2022",
                  "Value": 4746.98
                },
                {
                  "index": 48,
                  "Date": "11/3/2022",
                  "Value": 4625.06
                },
                {
                  "index": 49,
                  "Date": "18/3/2022",
                  "Value": 4540.31
                },
                {
                  "index": 50,
                  "Date": "25/3/2022",
                  "Value": 4434.07
                },
                {
                  "index": 51,
                  "Date": "1/4/2022",
                  "Value": 4348.71
                },
                {
                  "index": 52,
                  "Date": "8/4/2022",
                  "Value": 4263.66
                },
                {
                  "index": 53,
                  "Date": "15/4/2022",
                  "Value": 4228.65
                },
                {
                  "index": 54,
                  "Date": "22/4/2022",
                  "Value": 4195.98
                },
                {
                  "index": 55,
                  "Date": "29/4/2022",
                  "Value": 4177.3
                },
                {
                  "index": 56,
                  "Date": "6/5/2022",
                  "Value": 4163.74
                },
                {
                  "index": 57,
                  "Date": "13/5/2022",
                  "Value": 4147.83
                },
                {
                  "index": 58,
                  "Date": "20/5/2022",
                  "Value": 4162.69
                },
                {
                  "index": 59,
                  "Date": "27/5/2022",
                  "Value": 4175.35
                },
                {
                  "index": 60,
                  "Date": "2/6/2022",
                  "Value": 4208.01
                },
                {
                  "index": 61,
                  "Date": "10/6/2022",
                  "Value": 4233.31
                },
                {
                  "index": 62,
                  "Date": "17/6/2022",
                  "Value": 4221.96
                },
                {
                  "index": 63,
                  "Date": "24/6/2022",
                  "Value": 4216.13
                },
                {
                  "index": 64,
                  "Date": "1/7/2022",
                  "Value": 4203.27
                },
                {
                  "index": 65,
                  "Date": "8/7/2022",
                  "Value": 4143.87
                },
                {
                  "index": 66,
                  "Date": "15/7/2022",
                  "Value": 4074.7
                },
                {
                  "index": 67,
                  "Date": "22/7/2022",
                  "Value": 3996.77
                },
                {
                  "index": 68,
                  "Date": "29/7/2022",
                  "Value": 3887.85
                },
                {
                  "index": 69,
                  "Date": "5/8/2022",
                  "Value": 3739.72
                },
                {
                  "index": 70,
                  "Date": "12/8/2022",
                  "Value": 3562.67
                },
                {
                  "index": 71,
                  "Date": "19/8/2022",
                  "Value": 3429.83
                },
                {
                  "index": 72,
                  "Date": "26/8/2022",
                  "Value": 3154.26
                },
                {
                  "index": 73,
                  "Date": "2/9/2022",
                  "Value": 2847.62
                },
                {
                  "index": 74,
                  "Date": "9/9/2022",
                  "Value": 2562.12
                },
                {
                  "index": 75,
                  "Date": "16/9/2022",
                  "Value": 2312.65
                },
                {
                  "index": 76,
                  "Date": "23/9/2022",
                  "Value": 2072.04
                },
                {
                  "index": 77,
                  "Date": "30/9/2022",
                  "Value": 1922.95
                },
                {
                  "index": 78,
                  "Date": "14/10/2022",
                  "Value": 1814
                },
                {
                  "index": 79,
                  "Date": "21/10/2022",
                  "Value": 1778.69
                },
                {
                  "index": 80,
                  "Date": "28/10/2022",
                  "Value": 1697.65
                },
                {
                  "index": 81,
                  "Date": "4/11/2022",
                  "Value": 1579.21
                },
                {
                  "index": 82,
                  "Date": "11/11/2022",
                  "Value": 1443.29
                },
                {
                  "index": 83,
                  "Date": "18/11/2022",
                  "Value": 1306.84
                },
                {
                  "index": 84,
                  "Date": "25/11/2022",
                  "Value": 1229.9
                },
                {
                  "index": 85,
                  "Date": "2/12/2022",
                  "Value": 1171.36
                },
                {
                  "index": 86,
                  "Date": "9/12/2022",
                  "Value": 1138.09
                },
                {
                  "index": 87,
                  "Date": "16/12/2022",
                  "Value": 1123.29
                },
                {
                  "index": 88,
                  "Date": "23/12/2022",
                  "Value": 1107.09
                },
                {
                  "index": 89,
                  "Date": "30/12/2022",
                  "Value": 1107.55
                },
                {
                  "index": 90,
                  "Date": "6/1/2023",
                  "Value": 1061.14
                },
                {
                  "index": 91,
                  "Date": "13/1/2023",
                  "Value": 1031.42
                },
                {
                  "index": 92,
                  "Date": "20/1/2023",
                  "Value": 1029.75
                },
                {
                  "index": 93,
                  "Date": "3/2/2023",
                  "Value": 1006.89
                },
                {
                  "index": 94,
                  "Date": "10/2/2023",
                  "Value": 995.16
                },
                {
                  "index": 95,
                  "Date": "17/2/2023",
                  "Value": 974.66
                },
                {
                  "index": 96,
                  "Date": "24/2/2023",
                  "Value": 946.68
                },
                {
                  "index": 97,
                  "Date": "3/3/2023",
                  "Value": 931.08
                },
                {
                  "index": 98,
                  "Date": "10/3/2023",
                  "Value": 906.55
                },
                {
                  "index": 99,
                  "Date": "17/3/2023",
                  "Value": 909.72
                },
                {
                  "index": 100,
                  "Date": "24/3/2023",
                  "Value": 908.35
                },
                {
                  "index": 101,
                  "Date": "31/3/2023",
                  "Value": 923.78
                },
                {
                  "index": 102,
                  "Date": "7/4/2023",
                  "Value": 956.93
                },
                {
                  "index": 103,
                  "Date": "14/4/2023",
                  "Value": 1033.65
                },
                {
                  "index": 104,
                  "Date": "21/4/2023",
                  "Value": 1037.07
                },
                {
                  "index": 105,
                  "Date": "28/4/2023",
                  "Value": 999.73
                },
                {
                  "index": 106,
                  "Date": "30/4/2023",
                  "Value": 983.41
                },
                {
                  "index": 107,
                  "Date": "5/5/2023",
                  "Value": 998.29
                },
                {
                  "index": 108,
                  "Date": "12/5/2023",
                  "Value": 983.41
                },
                {
                  "index": 109,
                  "Date": "19/5/2023",
                  "Value": 972.45
                },
                {
                  "index": 110,
                  "Date": "26/5/2023",
                  "Value": 983.46
                },
                {
                  "index": 111,
                  "Date": "2/6/2023",
                  "Value": 1028.7
                },
                {
                  "index": 112,
                  "Date": "9/6/2023",
                  "Value": 979.85
                },
                {
                  "index": 113,
                  "Date": "16/6/2023",
                  "Value": 934.31
                },
                {
                  "index": 114,
                  "Date": "21/6/2023",
                  "Value": 924.29
                },
                {
                  "index": 115,
                  "Date": "30/6/2023",
                  "Value": 953.6
                },
                {
                  "index": 116,
                  "Date": "7/7/2023",
                  "Value": 931.73
                },
                {
                  "index": 117,
                  "Date": "14/7/2023",
                  "Value": 979.11
                },
                {
                  "index": 118,
                  "Date": "21/7/2023",
                  "Value": 966.45
                },
                {
                  "index": 119,
                  "Date": "28/7/2023",
                  "Value": 1029.23
                }
              ],
              "datalink": {
                "display_id": "e7c6af08-0009-4bbe-ad37-f9d43707d838"
              }
            }
          },
          "metadata": {
            "application/vnd.dataresource+json": {
              "datalink": {
                "dataframe_info": {
                  "default_index_used": true,
                  "orig_size_bytes": 2880,
                  "orig_num_rows": 120,
                  "orig_num_cols": 2,
                  "truncated_string_columns": [],
                  "truncated_size_bytes": 2880,
                  "truncated_num_rows": 120,
                  "truncated_num_cols": 2
                },
                "dx_settings": {
                  "NUM_PAST_SAMPLES_TRACKED": 3,
                  "ENABLE_DATALINK": true,
                  "DISPLAY_MODE": "simple",
                  "GENERATE_DEX_METADATA": false,
                  "STRINGIFY_INDEX_VALUES": false,
                  "ALLOW_NOTEABLE_ATTRS": true,
                  "DISPLAY_MAX_COLUMNS": 100,
                  "HTML_TABLE_SCHEMA": false,
                  "SAMPLING_FACTOR": 0.1,
                  "LOG_LEVEL": 30,
                  "ENABLE_ASSIGNMENT": true,
                  "FLATTEN_INDEX_VALUES": false,
                  "DEV_MODE": false,
                  "COLUMN_SAMPLING_METHOD": "outer",
                  "FLATTEN_COLUMN_VALUES": true,
                  "DISPLAY_MAX_ROWS": 50000,
                  "ROW_SAMPLING_METHOD": "random",
                  "RANDOM_STATE": 12648430,
                  "DB_LOCATION": ":memory:",
                  "STRINGIFY_COLUMN_VALUES": true,
                  "SAMPLING_METHOD": "random",
                  "MAX_STRING_LENGTH": 250,
                  "MAX_RENDER_SIZE_BYTES": 104857600,
                  "RESET_INDEX_VALUES": false
                },
                "display_id": "e7c6af08-0009-4bbe-ad37-f9d43707d838",
                "applied_filters": [],
                "sample_history": [],
                "sampling_time": "2023-07-30T03:25:36.658189",
                "variable_name": "df_SCFI",
                "user_variable_name": "df_SCFI"
              },
              "display_id": "e7c6af08-0009-4bbe-ad37-f9d43707d838"
            }
          }
        }
      ],
      "execution_count": null,
      "metadata": {
        "noteable": {},
        "ExecuteTime": {
          "start_time": "2023-07-30T03:25:36.614396+00:00",
          "end_time": "2023-07-30T03:25:36.817892+00:00"
        },
        "datalink": {
          "e7c6af08-0009-4bbe-ad37-f9d43707d838": {
            "dataframe_info": {
              "default_index_used": true,
              "orig_size_bytes": 2880,
              "orig_num_rows": 120,
              "orig_num_cols": 2,
              "truncated_string_columns": [],
              "truncated_size_bytes": 2880,
              "truncated_num_rows": 120,
              "truncated_num_cols": 2
            },
            "dx_settings": {
              "LOG_LEVEL": 30,
              "DEV_MODE": false,
              "DISPLAY_MAX_ROWS": 50000,
              "DISPLAY_MAX_COLUMNS": 100,
              "HTML_TABLE_SCHEMA": false,
              "MAX_RENDER_SIZE_BYTES": 104857600,
              "MAX_STRING_LENGTH": 250,
              "SAMPLING_FACTOR": 0.1,
              "DISPLAY_MODE": "simple",
              "SAMPLING_METHOD": "random",
              "COLUMN_SAMPLING_METHOD": "outer",
              "ROW_SAMPLING_METHOD": "random",
              "RANDOM_STATE": 12648430,
              "RESET_INDEX_VALUES": false,
              "FLATTEN_INDEX_VALUES": false,
              "FLATTEN_COLUMN_VALUES": true,
              "STRINGIFY_INDEX_VALUES": false,
              "STRINGIFY_COLUMN_VALUES": true,
              "ENABLE_DATALINK": true,
              "ENABLE_ASSIGNMENT": true,
              "NUM_PAST_SAMPLES_TRACKED": 3,
              "DB_LOCATION": ":memory:",
              "GENERATE_DEX_METADATA": false,
              "ALLOW_NOTEABLE_ATTRS": true
            },
            "display_id": "e7c6af08-0009-4bbe-ad37-f9d43707d838",
            "applied_filters": [],
            "sample_history": [],
            "sampling_time": "2023-07-30T03:25:36.658189",
            "variable_name": "df_SCFI",
            "user_variable_name": "df_SCFI"
          }
        },
        "dx": {
          "views": [
            {
              "id": "d5bab9d9-e620-45b5-9f77-a032499ee321",
              "isDefault": false,
              "type": "public",
              "userID": "",
              "facets": [],
              "confoRules": [],
              "annotationRules": [],
              "chartMode": "empty",
              "chart": {},
              "decoration": {
                "title": "New View",
                "subtitle": "",
                "footer": ""
              },
              "filterSettings": {
                "SHOW_FILTER_PANEL": true,
                "filters": []
              }
            },
            {
              "id": "c2c92f59-35f2-4ac9-91b1-05abf3a421cf",
              "isDefault": false,
              "type": "public",
              "userID": "",
              "facets": [],
              "confoRules": [],
              "annotationRules": [],
              "chartMode": "empty",
              "chart": {},
              "decoration": {
                "title": "New View",
                "subtitle": "",
                "footer": ""
              },
              "filterSettings": {
                "SHOW_FILTER_PANEL": true,
                "filters": []
              }
            }
          ],
          "fieldMetadata": {},
          "dashboard": {
            "multiViews": []
          },
          "updated": 1690687570447,
          "simpleTable": true
        },
        "tags": [
          "show_line_numbers"
        ]
      },
      "id": "5809246c"
    },
    {
      "cell_type": "code",
      "source": [
        "!pip install -q prophet\n",
        "!pip install -q lightgbm"
      ],
      "outputs": [],
      "execution_count": null,
      "metadata": {
        "jupyter": {
          "source_hidden": false,
          "outputs_hidden": false
        },
        "noteable": {
          "cell_type": "code"
        },
        "ExecuteTime": {
          "start_time": "2023-07-30T03:26:34.528665+00:00",
          "end_time": "2023-07-30T03:26:50.224046+00:00"
        },
        "tags": [
          "show_line_numbers"
        ]
      },
      "id": "1e66c0ea-6f35-4ebf-b953-3965427b7d75"
    },
    {
      "cell_type": "code",
      "source": [
        "from prophet import Prophet\n",
        "import numpy as np"
      ],
      "outputs": [],
      "execution_count": null,
      "metadata": {
        "jupyter": {
          "source_hidden": false,
          "outputs_hidden": false
        },
        "noteable": {
          "cell_type": "code"
        },
        "ExecuteTime": {
          "start_time": "2023-07-30T03:27:05.371225+00:00",
          "end_time": "2023-07-30T03:27:05.893121+00:00"
        },
        "tags": [
          "show_line_numbers"
        ]
      },
      "id": "5cd72814-b9cf-4ba3-9e74-eee20c36b450"
    },
    {
      "cell_type": "code",
      "source": [
        "import math"
      ],
      "outputs": [],
      "execution_count": null,
      "metadata": {
        "jupyter": {
          "source_hidden": false,
          "outputs_hidden": false
        },
        "noteable": {
          "cell_type": "code"
        },
        "ExecuteTime": {
          "start_time": "2023-07-30T03:27:17.238984+00:00",
          "end_time": "2023-07-30T03:27:17.395103+00:00"
        },
        "tags": [
          "show_line_numbers"
        ]
      },
      "id": "b551347c-3371-4963-923e-45da451056d9"
    },
    {
      "cell_type": "code",
      "source": [
        "!pip install -q statsmodels\n",
        "!pip install -q matplotlib"
      ],
      "outputs": [],
      "execution_count": null,
      "metadata": {
        "jupyter": {
          "source_hidden": false,
          "outputs_hidden": false
        },
        "noteable": {
          "cell_type": "code"
        },
        "ExecuteTime": {
          "start_time": "2023-07-30T03:27:55.053417+00:00",
          "end_time": "2023-07-30T03:28:04.782377+00:00"
        },
        "tags": [
          "show_line_numbers"
        ]
      },
      "id": "b4d6b091-9ea6-43cb-951e-45f14b936c26"
    },
    {
      "cell_type": "code",
      "source": [
        "import matplotlib.pyplot as plt"
      ],
      "outputs": [],
      "execution_count": null,
      "metadata": {
        "jupyter": {
          "source_hidden": false,
          "outputs_hidden": false
        },
        "noteable": {
          "cell_type": "code"
        },
        "ExecuteTime": {
          "start_time": "2023-07-30T03:28:09.845240+00:00",
          "end_time": "2023-07-30T03:28:10.002496+00:00"
        },
        "tags": [
          "show_line_numbers"
        ]
      },
      "id": "70c81e5c-fa06-4a1d-a5da-f90954ad930a"
    },
    {
      "cell_type": "code",
      "source": [
        "df_SCFI.shape"
      ],
      "outputs": [
        {
          "output_type": "execute_result",
          "execution_count": null,
          "data": {
            "text/plain": "(120, 2)"
          },
          "metadata": {}
        }
      ],
      "execution_count": null,
      "metadata": {
        "jupyter": {
          "source_hidden": false,
          "outputs_hidden": false
        },
        "noteable": {
          "cell_type": "code"
        },
        "ExecuteTime": {
          "start_time": "2023-07-30T03:28:58.890320+00:00",
          "end_time": "2023-07-30T03:28:59.051140+00:00"
        },
        "tags": [
          "show_line_numbers"
        ]
      },
      "id": "9a8cce29-1942-4082-adde-2debcb357abe"
    },
    {
      "cell_type": "code",
      "source": [
        "df_SCFI.info()"
      ],
      "outputs": [
        {
          "output_type": "stream",
          "name": "stdout",
          "text": [
            "<class 'pandas.core.frame.DataFrame'>\n",
            "RangeIndex: 120 entries, 0 to 119\n",
            "Data columns (total 2 columns):\n",
            " #   Column  Non-Null Count  Dtype  \n",
            "---  ------  --------------  -----  \n",
            " 0   Date    120 non-null    object \n",
            " 1   Value   120 non-null    float64\n",
            "dtypes: float64(1), object(1)\n",
            "memory usage: 2.0+ KB\n"
          ]
        }
      ],
      "execution_count": null,
      "metadata": {
        "jupyter": {
          "source_hidden": false,
          "outputs_hidden": false
        },
        "noteable": {
          "cell_type": "code"
        },
        "ExecuteTime": {
          "start_time": "2023-07-30T03:29:10.152370+00:00",
          "end_time": "2023-07-30T03:29:10.320327+00:00"
        },
        "tags": [
          "show_line_numbers"
        ]
      },
      "id": "208626c9-2e73-4257-86b3-fb567b65e898"
    },
    {
      "cell_type": "code",
      "source": [
        "df_SCFI['Date'].max()"
      ],
      "outputs": [
        {
          "output_type": "execute_result",
          "execution_count": null,
          "data": {
            "text/plain": "'9/9/2022'"
          },
          "metadata": {}
        }
      ],
      "execution_count": null,
      "metadata": {
        "jupyter": {
          "source_hidden": false,
          "outputs_hidden": false
        },
        "noteable": {
          "cell_type": "code"
        },
        "ExecuteTime": {
          "start_time": "2023-07-30T03:30:05.369247+00:00",
          "end_time": "2023-07-30T03:30:05.528796+00:00"
        },
        "tags": [
          "show_line_numbers"
        ]
      },
      "id": "a9a96201-7aa7-4254-9f48-3d058fbcce4a"
    },
    {
      "cell_type": "code",
      "source": [
        "# Assuming df_SCFI is the DataFrame \n",
        "df_SCFI.columns = ['Date', 'Value']\n",
        "df_SCFI['Date'] = pd.to_datetime(df_SCFI['Date'], format='%d/%m/%Y').dt.normalize()\n"
      ],
      "outputs": [],
      "execution_count": null,
      "metadata": {
        "jupyter": {
          "source_hidden": false,
          "outputs_hidden": false
        },
        "noteable": {
          "cell_type": "code"
        },
        "ExecuteTime": {
          "start_time": "2023-07-30T03:31:51.243414+00:00",
          "end_time": "2023-07-30T03:31:51.407312+00:00"
        },
        "tags": [
          "show_line_numbers"
        ]
      },
      "id": "119637c1-f9fd-47de-bb9b-aae4e86256c4"
    },
    {
      "cell_type": "code",
      "source": [
        "df_SCFI"
      ],
      "outputs": [
        {
          "output_type": "display_data",
          "data": {
            "application/vnd.dataresource+json": {
              "schema": {
                "fields": [
                  {
                    "name": "index",
                    "type": "integer"
                  },
                  {
                    "name": "Date",
                    "type": "datetime"
                  },
                  {
                    "name": "Value",
                    "type": "number"
                  }
                ],
                "primaryKey": [
                  "index"
                ],
                "pandas_version": "1.4.0"
              },
              "data": [
                {
                  "index": 0,
                  "Date": "2021-04-02T00:00:00Z",
                  "Value": 2585.42
                },
                {
                  "index": 1,
                  "Date": "2021-04-09T00:00:00Z",
                  "Value": 2652.12
                },
                {
                  "index": 2,
                  "Date": "2021-04-16T00:00:00Z",
                  "Value": 2833.42
                },
                {
                  "index": 3,
                  "Date": "2021-04-23T00:00:00Z",
                  "Value": 2979.76
                },
                {
                  "index": 4,
                  "Date": "2021-04-30T00:00:00Z",
                  "Value": 3100.74
                },
                {
                  "index": 5,
                  "Date": "2021-05-07T00:00:00Z",
                  "Value": 3095.16
                },
                {
                  "index": 6,
                  "Date": "2021-05-14T00:00:00Z",
                  "Value": 3343.34
                },
                {
                  "index": 7,
                  "Date": "2021-05-21T00:00:00Z",
                  "Value": 3432.5
                },
                {
                  "index": 8,
                  "Date": "2021-05-28T00:00:00Z",
                  "Value": 3495.76
                },
                {
                  "index": 9,
                  "Date": "2021-06-04T00:00:00Z",
                  "Value": 3613.07
                },
                {
                  "index": 10,
                  "Date": "2021-06-11T00:00:00Z",
                  "Value": 3703.93
                },
                {
                  "index": 11,
                  "Date": "2021-06-18T00:00:00Z",
                  "Value": 3748.36
                },
                {
                  "index": 12,
                  "Date": "2021-06-25T00:00:00Z",
                  "Value": 3785.4
                },
                {
                  "index": 13,
                  "Date": "2021-07-02T00:00:00Z",
                  "Value": 3905.14
                },
                {
                  "index": 14,
                  "Date": "2021-07-09T00:00:00Z",
                  "Value": 3932.35
                },
                {
                  "index": 15,
                  "Date": "2021-07-16T00:00:00Z",
                  "Value": 4054.42
                },
                {
                  "index": 16,
                  "Date": "2021-07-23T00:00:00Z",
                  "Value": 4100
                },
                {
                  "index": 17,
                  "Date": "2021-07-30T00:00:00Z",
                  "Value": 4196.24
                },
                {
                  "index": 18,
                  "Date": "2021-08-06T00:00:00Z",
                  "Value": 4225.86
                },
                {
                  "index": 19,
                  "Date": "2021-08-13T00:00:00Z",
                  "Value": 4281.53
                },
                {
                  "index": 20,
                  "Date": "2021-08-20T00:00:00Z",
                  "Value": 4340.18
                },
                {
                  "index": 21,
                  "Date": "2021-08-27T00:00:00Z",
                  "Value": 4385.62
                },
                {
                  "index": 22,
                  "Date": "2021-09-03T00:00:00Z",
                  "Value": 4502.65
                },
                {
                  "index": 23,
                  "Date": "2021-09-10T00:00:00Z",
                  "Value": 4568.16
                },
                {
                  "index": 24,
                  "Date": "2021-09-17T00:00:00Z",
                  "Value": 4622.51
                },
                {
                  "index": 25,
                  "Date": "2021-09-24T00:00:00Z",
                  "Value": 4643.79
                },
                {
                  "index": 26,
                  "Date": "2021-09-30T00:00:00Z",
                  "Value": 4614.1
                },
                {
                  "index": 27,
                  "Date": "2021-10-08T00:00:00Z",
                  "Value": 4647.6
                },
                {
                  "index": 28,
                  "Date": "2021-10-15T00:00:00Z",
                  "Value": 4588.07
                },
                {
                  "index": 29,
                  "Date": "2021-10-22T00:00:00Z",
                  "Value": 4583.39
                },
                {
                  "index": 30,
                  "Date": "2021-10-29T00:00:00Z",
                  "Value": 4567.28
                },
                {
                  "index": 31,
                  "Date": "2021-11-05T00:00:00Z",
                  "Value": 4535.92
                },
                {
                  "index": 32,
                  "Date": "2021-11-12T00:00:00Z",
                  "Value": 4554.04
                },
                {
                  "index": 33,
                  "Date": "2021-11-19T00:00:00Z",
                  "Value": 4555.21
                },
                {
                  "index": 34,
                  "Date": "2021-11-26T00:00:00Z",
                  "Value": 4601.97
                },
                {
                  "index": 35,
                  "Date": "2021-12-03T00:00:00Z",
                  "Value": 4727.06
                },
                {
                  "index": 36,
                  "Date": "2021-12-10T00:00:00Z",
                  "Value": 4810.98
                },
                {
                  "index": 37,
                  "Date": "2021-12-17T00:00:00Z",
                  "Value": 4894.62
                },
                {
                  "index": 38,
                  "Date": "2021-12-24T00:00:00Z",
                  "Value": 4956.02
                },
                {
                  "index": 39,
                  "Date": "2021-12-31T00:00:00Z",
                  "Value": 5046.66
                },
                {
                  "index": 40,
                  "Date": "2022-01-07T00:00:00Z",
                  "Value": 5109.6
                },
                {
                  "index": 41,
                  "Date": "2022-01-14T00:00:00Z",
                  "Value": 5094.36
                },
                {
                  "index": 42,
                  "Date": "2022-01-21T00:00:00Z",
                  "Value": 5053.12
                },
                {
                  "index": 43,
                  "Date": "2022-01-28T00:00:00Z",
                  "Value": 5010.36
                },
                {
                  "index": 44,
                  "Date": "2022-02-11T00:00:00Z",
                  "Value": 4980.93
                },
                {
                  "index": 45,
                  "Date": "2022-02-18T00:00:00Z",
                  "Value": 4946.01
                },
                {
                  "index": 46,
                  "Date": "2022-02-25T00:00:00Z",
                  "Value": 4818.47
                },
                {
                  "index": 47,
                  "Date": "2022-03-04T00:00:00Z",
                  "Value": 4746.98
                },
                {
                  "index": 48,
                  "Date": "2022-03-11T00:00:00Z",
                  "Value": 4625.06
                },
                {
                  "index": 49,
                  "Date": "2022-03-18T00:00:00Z",
                  "Value": 4540.31
                },
                {
                  "index": 50,
                  "Date": "2022-03-25T00:00:00Z",
                  "Value": 4434.07
                },
                {
                  "index": 51,
                  "Date": "2022-04-01T00:00:00Z",
                  "Value": 4348.71
                },
                {
                  "index": 52,
                  "Date": "2022-04-08T00:00:00Z",
                  "Value": 4263.66
                },
                {
                  "index": 53,
                  "Date": "2022-04-15T00:00:00Z",
                  "Value": 4228.65
                },
                {
                  "index": 54,
                  "Date": "2022-04-22T00:00:00Z",
                  "Value": 4195.98
                },
                {
                  "index": 55,
                  "Date": "2022-04-29T00:00:00Z",
                  "Value": 4177.3
                },
                {
                  "index": 56,
                  "Date": "2022-05-06T00:00:00Z",
                  "Value": 4163.74
                },
                {
                  "index": 57,
                  "Date": "2022-05-13T00:00:00Z",
                  "Value": 4147.83
                },
                {
                  "index": 58,
                  "Date": "2022-05-20T00:00:00Z",
                  "Value": 4162.69
                },
                {
                  "index": 59,
                  "Date": "2022-05-27T00:00:00Z",
                  "Value": 4175.35
                },
                {
                  "index": 60,
                  "Date": "2022-06-02T00:00:00Z",
                  "Value": 4208.01
                },
                {
                  "index": 61,
                  "Date": "2022-06-10T00:00:00Z",
                  "Value": 4233.31
                },
                {
                  "index": 62,
                  "Date": "2022-06-17T00:00:00Z",
                  "Value": 4221.96
                },
                {
                  "index": 63,
                  "Date": "2022-06-24T00:00:00Z",
                  "Value": 4216.13
                },
                {
                  "index": 64,
                  "Date": "2022-07-01T00:00:00Z",
                  "Value": 4203.27
                },
                {
                  "index": 65,
                  "Date": "2022-07-08T00:00:00Z",
                  "Value": 4143.87
                },
                {
                  "index": 66,
                  "Date": "2022-07-15T00:00:00Z",
                  "Value": 4074.7
                },
                {
                  "index": 67,
                  "Date": "2022-07-22T00:00:00Z",
                  "Value": 3996.77
                },
                {
                  "index": 68,
                  "Date": "2022-07-29T00:00:00Z",
                  "Value": 3887.85
                },
                {
                  "index": 69,
                  "Date": "2022-08-05T00:00:00Z",
                  "Value": 3739.72
                },
                {
                  "index": 70,
                  "Date": "2022-08-12T00:00:00Z",
                  "Value": 3562.67
                },
                {
                  "index": 71,
                  "Date": "2022-08-19T00:00:00Z",
                  "Value": 3429.83
                },
                {
                  "index": 72,
                  "Date": "2022-08-26T00:00:00Z",
                  "Value": 3154.26
                },
                {
                  "index": 73,
                  "Date": "2022-09-02T00:00:00Z",
                  "Value": 2847.62
                },
                {
                  "index": 74,
                  "Date": "2022-09-09T00:00:00Z",
                  "Value": 2562.12
                },
                {
                  "index": 75,
                  "Date": "2022-09-16T00:00:00Z",
                  "Value": 2312.65
                },
                {
                  "index": 76,
                  "Date": "2022-09-23T00:00:00Z",
                  "Value": 2072.04
                },
                {
                  "index": 77,
                  "Date": "2022-09-30T00:00:00Z",
                  "Value": 1922.95
                },
                {
                  "index": 78,
                  "Date": "2022-10-14T00:00:00Z",
                  "Value": 1814
                },
                {
                  "index": 79,
                  "Date": "2022-10-21T00:00:00Z",
                  "Value": 1778.69
                },
                {
                  "index": 80,
                  "Date": "2022-10-28T00:00:00Z",
                  "Value": 1697.65
                },
                {
                  "index": 81,
                  "Date": "2022-11-04T00:00:00Z",
                  "Value": 1579.21
                },
                {
                  "index": 82,
                  "Date": "2022-11-11T00:00:00Z",
                  "Value": 1443.29
                },
                {
                  "index": 83,
                  "Date": "2022-11-18T00:00:00Z",
                  "Value": 1306.84
                },
                {
                  "index": 84,
                  "Date": "2022-11-25T00:00:00Z",
                  "Value": 1229.9
                },
                {
                  "index": 85,
                  "Date": "2022-12-02T00:00:00Z",
                  "Value": 1171.36
                },
                {
                  "index": 86,
                  "Date": "2022-12-09T00:00:00Z",
                  "Value": 1138.09
                },
                {
                  "index": 87,
                  "Date": "2022-12-16T00:00:00Z",
                  "Value": 1123.29
                },
                {
                  "index": 88,
                  "Date": "2022-12-23T00:00:00Z",
                  "Value": 1107.09
                },
                {
                  "index": 89,
                  "Date": "2022-12-30T00:00:00Z",
                  "Value": 1107.55
                },
                {
                  "index": 90,
                  "Date": "2023-01-06T00:00:00Z",
                  "Value": 1061.14
                },
                {
                  "index": 91,
                  "Date": "2023-01-13T00:00:00Z",
                  "Value": 1031.42
                },
                {
                  "index": 92,
                  "Date": "2023-01-20T00:00:00Z",
                  "Value": 1029.75
                },
                {
                  "index": 93,
                  "Date": "2023-02-03T00:00:00Z",
                  "Value": 1006.89
                },
                {
                  "index": 94,
                  "Date": "2023-02-10T00:00:00Z",
                  "Value": 995.16
                },
                {
                  "index": 95,
                  "Date": "2023-02-17T00:00:00Z",
                  "Value": 974.66
                },
                {
                  "index": 96,
                  "Date": "2023-02-24T00:00:00Z",
                  "Value": 946.68
                },
                {
                  "index": 97,
                  "Date": "2023-03-03T00:00:00Z",
                  "Value": 931.08
                },
                {
                  "index": 98,
                  "Date": "2023-03-10T00:00:00Z",
                  "Value": 906.55
                },
                {
                  "index": 99,
                  "Date": "2023-03-17T00:00:00Z",
                  "Value": 909.72
                },
                {
                  "index": 100,
                  "Date": "2023-03-24T00:00:00Z",
                  "Value": 908.35
                },
                {
                  "index": 101,
                  "Date": "2023-03-31T00:00:00Z",
                  "Value": 923.78
                },
                {
                  "index": 102,
                  "Date": "2023-04-07T00:00:00Z",
                  "Value": 956.93
                },
                {
                  "index": 103,
                  "Date": "2023-04-14T00:00:00Z",
                  "Value": 1033.65
                },
                {
                  "index": 104,
                  "Date": "2023-04-21T00:00:00Z",
                  "Value": 1037.07
                },
                {
                  "index": 105,
                  "Date": "2023-04-28T00:00:00Z",
                  "Value": 999.73
                },
                {
                  "index": 106,
                  "Date": "2023-04-30T00:00:00Z",
                  "Value": 983.41
                },
                {
                  "index": 107,
                  "Date": "2023-05-05T00:00:00Z",
                  "Value": 998.29
                },
                {
                  "index": 108,
                  "Date": "2023-05-12T00:00:00Z",
                  "Value": 983.41
                },
                {
                  "index": 109,
                  "Date": "2023-05-19T00:00:00Z",
                  "Value": 972.45
                },
                {
                  "index": 110,
                  "Date": "2023-05-26T00:00:00Z",
                  "Value": 983.46
                },
                {
                  "index": 111,
                  "Date": "2023-06-02T00:00:00Z",
                  "Value": 1028.7
                },
                {
                  "index": 112,
                  "Date": "2023-06-09T00:00:00Z",
                  "Value": 979.85
                },
                {
                  "index": 113,
                  "Date": "2023-06-16T00:00:00Z",
                  "Value": 934.31
                },
                {
                  "index": 114,
                  "Date": "2023-06-21T00:00:00Z",
                  "Value": 924.29
                },
                {
                  "index": 115,
                  "Date": "2023-06-30T00:00:00Z",
                  "Value": 953.6
                },
                {
                  "index": 116,
                  "Date": "2023-07-07T00:00:00Z",
                  "Value": 931.73
                },
                {
                  "index": 117,
                  "Date": "2023-07-14T00:00:00Z",
                  "Value": 979.11
                },
                {
                  "index": 118,
                  "Date": "2023-07-21T00:00:00Z",
                  "Value": 966.45
                },
                {
                  "index": 119,
                  "Date": "2023-07-28T00:00:00Z",
                  "Value": 1029.23
                }
              ],
              "datalink": {
                "display_id": "56f01db8-5795-4838-868c-26426d308de5"
              }
            }
          },
          "metadata": {
            "application/vnd.dataresource+json": {
              "datalink": {
                "dataframe_info": {
                  "default_index_used": true,
                  "orig_size_bytes": 2880,
                  "orig_num_rows": 120,
                  "orig_num_cols": 2,
                  "truncated_string_columns": [],
                  "truncated_size_bytes": 2880,
                  "truncated_num_rows": 120,
                  "truncated_num_cols": 2
                },
                "dx_settings": {
                  "NUM_PAST_SAMPLES_TRACKED": 3,
                  "ENABLE_DATALINK": true,
                  "DISPLAY_MODE": "simple",
                  "GENERATE_DEX_METADATA": false,
                  "STRINGIFY_INDEX_VALUES": false,
                  "ALLOW_NOTEABLE_ATTRS": true,
                  "DISPLAY_MAX_COLUMNS": 100,
                  "HTML_TABLE_SCHEMA": false,
                  "SAMPLING_FACTOR": 0.1,
                  "LOG_LEVEL": 30,
                  "ENABLE_ASSIGNMENT": true,
                  "FLATTEN_INDEX_VALUES": false,
                  "DEV_MODE": false,
                  "COLUMN_SAMPLING_METHOD": "outer",
                  "FLATTEN_COLUMN_VALUES": true,
                  "DISPLAY_MAX_ROWS": 50000,
                  "ROW_SAMPLING_METHOD": "random",
                  "RANDOM_STATE": 12648430,
                  "DB_LOCATION": ":memory:",
                  "STRINGIFY_COLUMN_VALUES": true,
                  "SAMPLING_METHOD": "random",
                  "MAX_STRING_LENGTH": 250,
                  "MAX_RENDER_SIZE_BYTES": 104857600,
                  "RESET_INDEX_VALUES": false
                },
                "display_id": "56f01db8-5795-4838-868c-26426d308de5",
                "applied_filters": [],
                "sample_history": [],
                "sampling_time": "2023-07-30T03:32:03.967664",
                "variable_name": "df_SCFI",
                "user_variable_name": "df_SCFI"
              },
              "display_id": "56f01db8-5795-4838-868c-26426d308de5"
            }
          }
        }
      ],
      "execution_count": null,
      "metadata": {
        "jupyter": {
          "source_hidden": false,
          "outputs_hidden": false
        },
        "noteable": {
          "cell_type": "code"
        },
        "ExecuteTime": {
          "start_time": "2023-07-30T03:32:03.932229+00:00",
          "end_time": "2023-07-30T03:32:04.129584+00:00"
        },
        "datalink": {
          "25a5a2cc-93f6-49f8-b68c-cde966eb7a5a": {
            "dataframe_info": {
              "default_index_used": true,
              "orig_size_bytes": 2880,
              "orig_num_rows": 120,
              "orig_num_cols": 2,
              "truncated_string_columns": [],
              "truncated_size_bytes": 2880,
              "truncated_num_rows": 120,
              "truncated_num_cols": 2
            },
            "dx_settings": {
              "LOG_LEVEL": 30,
              "DEV_MODE": false,
              "DISPLAY_MAX_ROWS": 50000,
              "DISPLAY_MAX_COLUMNS": 100,
              "HTML_TABLE_SCHEMA": false,
              "MAX_RENDER_SIZE_BYTES": 104857600,
              "MAX_STRING_LENGTH": 250,
              "SAMPLING_FACTOR": 0.1,
              "DISPLAY_MODE": "simple",
              "SAMPLING_METHOD": "random",
              "COLUMN_SAMPLING_METHOD": "outer",
              "ROW_SAMPLING_METHOD": "random",
              "RANDOM_STATE": 12648430,
              "RESET_INDEX_VALUES": false,
              "FLATTEN_INDEX_VALUES": false,
              "FLATTEN_COLUMN_VALUES": true,
              "STRINGIFY_INDEX_VALUES": false,
              "STRINGIFY_COLUMN_VALUES": true,
              "ENABLE_DATALINK": true,
              "ENABLE_ASSIGNMENT": true,
              "NUM_PAST_SAMPLES_TRACKED": 3,
              "DB_LOCATION": ":memory:",
              "GENERATE_DEX_METADATA": false,
              "ALLOW_NOTEABLE_ATTRS": true
            },
            "display_id": "25a5a2cc-93f6-49f8-b68c-cde966eb7a5a",
            "applied_filters": [],
            "sample_history": [],
            "sampling_time": "2023-07-30T03:31:40.028259",
            "variable_name": "df_SCFI",
            "user_variable_name": "df_SCFI"
          },
          "56f01db8-5795-4838-868c-26426d308de5": {
            "dataframe_info": {
              "default_index_used": true,
              "orig_size_bytes": 2880,
              "orig_num_rows": 120,
              "orig_num_cols": 2,
              "truncated_string_columns": [],
              "truncated_size_bytes": 2880,
              "truncated_num_rows": 120,
              "truncated_num_cols": 2
            },
            "dx_settings": {
              "LOG_LEVEL": 30,
              "DEV_MODE": false,
              "DISPLAY_MAX_ROWS": 50000,
              "DISPLAY_MAX_COLUMNS": 100,
              "HTML_TABLE_SCHEMA": false,
              "MAX_RENDER_SIZE_BYTES": 104857600,
              "MAX_STRING_LENGTH": 250,
              "SAMPLING_FACTOR": 0.1,
              "DISPLAY_MODE": "simple",
              "SAMPLING_METHOD": "random",
              "COLUMN_SAMPLING_METHOD": "outer",
              "ROW_SAMPLING_METHOD": "random",
              "RANDOM_STATE": 12648430,
              "RESET_INDEX_VALUES": false,
              "FLATTEN_INDEX_VALUES": false,
              "FLATTEN_COLUMN_VALUES": true,
              "STRINGIFY_INDEX_VALUES": false,
              "STRINGIFY_COLUMN_VALUES": true,
              "ENABLE_DATALINK": true,
              "ENABLE_ASSIGNMENT": true,
              "NUM_PAST_SAMPLES_TRACKED": 3,
              "DB_LOCATION": ":memory:",
              "GENERATE_DEX_METADATA": false,
              "ALLOW_NOTEABLE_ATTRS": true
            },
            "display_id": "56f01db8-5795-4838-868c-26426d308de5",
            "applied_filters": [],
            "sample_history": [],
            "sampling_time": "2023-07-30T03:32:03.967664",
            "variable_name": "df_SCFI",
            "user_variable_name": "df_SCFI"
          }
        },
        "tags": [
          "show_line_numbers"
        ]
      },
      "id": "8c89ca31-1fc4-4ab2-bbbe-48321f455a5b"
    },
    {
      "cell_type": "code",
      "source": [
        "# Import necessary libraries\n",
        "import matplotlib.pyplot as plt\n",
        "import matplotlib.dates as mdates\n",
        "\n",
        "# Convert 'Value' column to numeric\n",
        "df_SCFI['Value'] = pd.to_numeric(df_SCFI['Value'], errors='coerce')\n",
        "\n",
        "# Create a figure and axis\n",
        "fig, ax = plt.subplots(figsize=(20, 10))\n",
        "\n",
        "# Plot the 'Value' column\n",
        "ax.plot(df_SCFI['Date'], df_SCFI['Value'], label='SCFI')\n",
        "\n",
        "# Set the title and labels\n",
        "plt.title('Shanghai Containerized Freight Index over Time')\n",
        "plt.xlabel('Date')\n",
        "plt.ylabel('SCFI')\n",
        "\n",
        "# Format the x-axis to display dates in a more readable format\n",
        "ax.xaxis.set_major_locator(mdates.MonthLocator())\n",
        "ax.xaxis.set_major_formatter(mdates.DateFormatter('%Y-%m'))\n",
        "\n",
        "# Rotate date labels automatically\n",
        "fig.autofmt_xdate()\n",
        "\n",
        "# Show the legend\n",
        "plt.legend()\n",
        "\n",
        "# Show grid\n",
        "plt.grid(False)\n",
        "\n",
        "# Show the plot\n",
        "plt.show()"
      ],
      "outputs": [
        {
          "output_type": "display_data",
          "data": {
            "image/png": "[encoded data removed]"
          },
          "metadata": {}
        }
      ],
      "execution_count": null,
      "metadata": {
        "noteable": {
          "cell_type": "code"
        },
        "ExecuteTime": {
          "start_time": "2023-07-30T03:50:23.621412+00:00",
          "end_time": "2023-07-30T03:50:24.361142+00:00"
        }
      },
      "id": "5aece8a9-76bc-4a36-9823-69970b89ac91"
    },
    {
      "cell_type": "code",
      "source": [
        "df_SCFI"
      ],
      "outputs": [
        {
          "output_type": "display_data",
          "data": {
            "application/vnd.dataresource+json": {
              "schema": {
                "fields": [
                  {
                    "name": "index",
                    "type": "integer"
                  },
                  {
                    "name": "Date",
                    "type": "datetime"
                  },
                  {
                    "name": "Value",
                    "type": "number"
                  }
                ],
                "primaryKey": [
                  "index"
                ],
                "pandas_version": "1.4.0"
              },
              "data": [
                {
                  "index": 0,
                  "Date": "2021-04-02T00:00:00Z",
                  "Value": 2585.42
                },
                {
                  "index": 1,
                  "Date": "2021-04-09T00:00:00Z",
                  "Value": 2652.12
                },
                {
                  "index": 2,
                  "Date": "2021-04-16T00:00:00Z",
                  "Value": 2833.42
                },
                {
                  "index": 3,
                  "Date": "2021-04-23T00:00:00Z",
                  "Value": 2979.76
                },
                {
                  "index": 4,
                  "Date": "2021-04-30T00:00:00Z",
                  "Value": 3100.74
                },
                {
                  "index": 5,
                  "Date": "2021-05-07T00:00:00Z",
                  "Value": 3095.16
                },
                {
                  "index": 6,
                  "Date": "2021-05-14T00:00:00Z",
                  "Value": 3343.34
                },
                {
                  "index": 7,
                  "Date": "2021-05-21T00:00:00Z",
                  "Value": 3432.5
                },
                {
                  "index": 8,
                  "Date": "2021-05-28T00:00:00Z",
                  "Value": 3495.76
                },
                {
                  "index": 9,
                  "Date": "2021-06-04T00:00:00Z",
                  "Value": 3613.07
                },
                {
                  "index": 10,
                  "Date": "2021-06-11T00:00:00Z",
                  "Value": 3703.93
                },
                {
                  "index": 11,
                  "Date": "2021-06-18T00:00:00Z",
                  "Value": 3748.36
                },
                {
                  "index": 12,
                  "Date": "2021-06-25T00:00:00Z",
                  "Value": 3785.4
                },
                {
                  "index": 13,
                  "Date": "2021-07-02T00:00:00Z",
                  "Value": 3905.14
                },
                {
                  "index": 14,
                  "Date": "2021-07-09T00:00:00Z",
                  "Value": 3932.35
                },
                {
                  "index": 15,
                  "Date": "2021-07-16T00:00:00Z",
                  "Value": 4054.42
                },
                {
                  "index": 16,
                  "Date": "2021-07-23T00:00:00Z",
                  "Value": 4100
                },
                {
                  "index": 17,
                  "Date": "2021-07-30T00:00:00Z",
                  "Value": 4196.24
                },
                {
                  "index": 18,
                  "Date": "2021-08-06T00:00:00Z",
                  "Value": 4225.86
                },
                {
                  "index": 19,
                  "Date": "2021-08-13T00:00:00Z",
                  "Value": 4281.53
                },
                {
                  "index": 20,
                  "Date": "2021-08-20T00:00:00Z",
                  "Value": 4340.18
                },
                {
                  "index": 21,
                  "Date": "2021-08-27T00:00:00Z",
                  "Value": 4385.62
                },
                {
                  "index": 22,
                  "Date": "2021-09-03T00:00:00Z",
                  "Value": 4502.65
                },
                {
                  "index": 23,
                  "Date": "2021-09-10T00:00:00Z",
                  "Value": 4568.16
                },
                {
                  "index": 24,
                  "Date": "2021-09-17T00:00:00Z",
                  "Value": 4622.51
                },
                {
                  "index": 25,
                  "Date": "2021-09-24T00:00:00Z",
                  "Value": 4643.79
                },
                {
                  "index": 26,
                  "Date": "2021-09-30T00:00:00Z",
                  "Value": 4614.1
                },
                {
                  "index": 27,
                  "Date": "2021-10-08T00:00:00Z",
                  "Value": 4647.6
                },
                {
                  "index": 28,
                  "Date": "2021-10-15T00:00:00Z",
                  "Value": 4588.07
                },
                {
                  "index": 29,
                  "Date": "2021-10-22T00:00:00Z",
                  "Value": 4583.39
                },
                {
                  "index": 30,
                  "Date": "2021-10-29T00:00:00Z",
                  "Value": 4567.28
                },
                {
                  "index": 31,
                  "Date": "2021-11-05T00:00:00Z",
                  "Value": 4535.92
                },
                {
                  "index": 32,
                  "Date": "2021-11-12T00:00:00Z",
                  "Value": 4554.04
                },
                {
                  "index": 33,
                  "Date": "2021-11-19T00:00:00Z",
                  "Value": 4555.21
                },
                {
                  "index": 34,
                  "Date": "2021-11-26T00:00:00Z",
                  "Value": 4601.97
                },
                {
                  "index": 35,
                  "Date": "2021-12-03T00:00:00Z",
                  "Value": 4727.06
                },
                {
                  "index": 36,
                  "Date": "2021-12-10T00:00:00Z",
                  "Value": 4810.98
                },
                {
                  "index": 37,
                  "Date": "2021-12-17T00:00:00Z",
                  "Value": 4894.62
                },
                {
                  "index": 38,
                  "Date": "2021-12-24T00:00:00Z",
                  "Value": 4956.02
                },
                {
                  "index": 39,
                  "Date": "2021-12-31T00:00:00Z",
                  "Value": 5046.66
                },
                {
                  "index": 40,
                  "Date": "2022-01-07T00:00:00Z",
                  "Value": 5109.6
                },
                {
                  "index": 41,
                  "Date": "2022-01-14T00:00:00Z",
                  "Value": 5094.36
                },
                {
                  "index": 42,
                  "Date": "2022-01-21T00:00:00Z",
                  "Value": 5053.12
                },
                {
                  "index": 43,
                  "Date": "2022-01-28T00:00:00Z",
                  "Value": 5010.36
                },
                {
                  "index": 44,
                  "Date": "2022-02-11T00:00:00Z",
                  "Value": 4980.93
                },
                {
                  "index": 45,
                  "Date": "2022-02-18T00:00:00Z",
                  "Value": 4946.01
                },
                {
                  "index": 46,
                  "Date": "2022-02-25T00:00:00Z",
                  "Value": 4818.47
                },
                {
                  "index": 47,
                  "Date": "2022-03-04T00:00:00Z",
                  "Value": 4746.98
                },
                {
                  "index": 48,
                  "Date": "2022-03-11T00:00:00Z",
                  "Value": 4625.06
                },
                {
                  "index": 49,
                  "Date": "2022-03-18T00:00:00Z",
                  "Value": 4540.31
                },
                {
                  "index": 50,
                  "Date": "2022-03-25T00:00:00Z",
                  "Value": 4434.07
                },
                {
                  "index": 51,
                  "Date": "2022-04-01T00:00:00Z",
                  "Value": 4348.71
                },
                {
                  "index": 52,
                  "Date": "2022-04-08T00:00:00Z",
                  "Value": 4263.66
                },
                {
                  "index": 53,
                  "Date": "2022-04-15T00:00:00Z",
                  "Value": 4228.65
                },
                {
                  "index": 54,
                  "Date": "2022-04-22T00:00:00Z",
                  "Value": 4195.98
                },
                {
                  "index": 55,
                  "Date": "2022-04-29T00:00:00Z",
                  "Value": 4177.3
                },
                {
                  "index": 56,
                  "Date": "2022-05-06T00:00:00Z",
                  "Value": 4163.74
                },
                {
                  "index": 57,
                  "Date": "2022-05-13T00:00:00Z",
                  "Value": 4147.83
                },
                {
                  "index": 58,
                  "Date": "2022-05-20T00:00:00Z",
                  "Value": 4162.69
                },
                {
                  "index": 59,
                  "Date": "2022-05-27T00:00:00Z",
                  "Value": 4175.35
                },
                {
                  "index": 60,
                  "Date": "2022-06-02T00:00:00Z",
                  "Value": 4208.01
                },
                {
                  "index": 61,
                  "Date": "2022-06-10T00:00:00Z",
                  "Value": 4233.31
                },
                {
                  "index": 62,
                  "Date": "2022-06-17T00:00:00Z",
                  "Value": 4221.96
                },
                {
                  "index": 63,
                  "Date": "2022-06-24T00:00:00Z",
                  "Value": 4216.13
                },
                {
                  "index": 64,
                  "Date": "2022-07-01T00:00:00Z",
                  "Value": 4203.27
                },
                {
                  "index": 65,
                  "Date": "2022-07-08T00:00:00Z",
                  "Value": 4143.87
                },
                {
                  "index": 66,
                  "Date": "2022-07-15T00:00:00Z",
                  "Value": 4074.7
                },
                {
                  "index": 67,
                  "Date": "2022-07-22T00:00:00Z",
                  "Value": 3996.77
                },
                {
                  "index": 68,
                  "Date": "2022-07-29T00:00:00Z",
                  "Value": 3887.85
                },
                {
                  "index": 69,
                  "Date": "2022-08-05T00:00:00Z",
                  "Value": 3739.72
                },
                {
                  "index": 70,
                  "Date": "2022-08-12T00:00:00Z",
                  "Value": 3562.67
                },
                {
                  "index": 71,
                  "Date": "2022-08-19T00:00:00Z",
                  "Value": 3429.83
                },
                {
                  "index": 72,
                  "Date": "2022-08-26T00:00:00Z",
                  "Value": 3154.26
                },
                {
                  "index": 73,
                  "Date": "2022-09-02T00:00:00Z",
                  "Value": 2847.62
                },
                {
                  "index": 74,
                  "Date": "2022-09-09T00:00:00Z",
                  "Value": 2562.12
                },
                {
                  "index": 75,
                  "Date": "2022-09-16T00:00:00Z",
                  "Value": 2312.65
                },
                {
                  "index": 76,
                  "Date": "2022-09-23T00:00:00Z",
                  "Value": 2072.04
                },
                {
                  "index": 77,
                  "Date": "2022-09-30T00:00:00Z",
                  "Value": 1922.95
                },
                {
                  "index": 78,
                  "Date": "2022-10-14T00:00:00Z",
                  "Value": 1814
                },
                {
                  "index": 79,
                  "Date": "2022-10-21T00:00:00Z",
                  "Value": 1778.69
                },
                {
                  "index": 80,
                  "Date": "2022-10-28T00:00:00Z",
                  "Value": 1697.65
                },
                {
                  "index": 81,
                  "Date": "2022-11-04T00:00:00Z",
                  "Value": 1579.21
                },
                {
                  "index": 82,
                  "Date": "2022-11-11T00:00:00Z",
                  "Value": 1443.29
                },
                {
                  "index": 83,
                  "Date": "2022-11-18T00:00:00Z",
                  "Value": 1306.84
                },
                {
                  "index": 84,
                  "Date": "2022-11-25T00:00:00Z",
                  "Value": 1229.9
                },
                {
                  "index": 85,
                  "Date": "2022-12-02T00:00:00Z",
                  "Value": 1171.36
                },
                {
                  "index": 86,
                  "Date": "2022-12-09T00:00:00Z",
                  "Value": 1138.09
                },
                {
                  "index": 87,
                  "Date": "2022-12-16T00:00:00Z",
                  "Value": 1123.29
                },
                {
                  "index": 88,
                  "Date": "2022-12-23T00:00:00Z",
                  "Value": 1107.09
                },
                {
                  "index": 89,
                  "Date": "2022-12-30T00:00:00Z",
                  "Value": 1107.55
                },
                {
                  "index": 90,
                  "Date": "2023-01-06T00:00:00Z",
                  "Value": 1061.14
                },
                {
                  "index": 91,
                  "Date": "2023-01-13T00:00:00Z",
                  "Value": 1031.42
                },
                {
                  "index": 92,
                  "Date": "2023-01-20T00:00:00Z",
                  "Value": 1029.75
                },
                {
                  "index": 93,
                  "Date": "2023-02-03T00:00:00Z",
                  "Value": 1006.89
                },
                {
                  "index": 94,
                  "Date": "2023-02-10T00:00:00Z",
                  "Value": 995.16
                },
                {
                  "index": 95,
                  "Date": "2023-02-17T00:00:00Z",
                  "Value": 974.66
                },
                {
                  "index": 96,
                  "Date": "2023-02-24T00:00:00Z",
                  "Value": 946.68
                },
                {
                  "index": 97,
                  "Date": "2023-03-03T00:00:00Z",
                  "Value": 931.08
                },
                {
                  "index": 98,
                  "Date": "2023-03-10T00:00:00Z",
                  "Value": 906.55
                },
                {
                  "index": 99,
                  "Date": "2023-03-17T00:00:00Z",
                  "Value": 909.72
                },
                {
                  "index": 100,
                  "Date": "2023-03-24T00:00:00Z",
                  "Value": 908.35
                },
                {
                  "index": 101,
                  "Date": "2023-03-31T00:00:00Z",
                  "Value": 923.78
                },
                {
                  "index": 102,
                  "Date": "2023-04-07T00:00:00Z",
                  "Value": 956.93
                },
                {
                  "index": 103,
                  "Date": "2023-04-14T00:00:00Z",
                  "Value": 1033.65
                },
                {
                  "index": 104,
                  "Date": "2023-04-21T00:00:00Z",
                  "Value": 1037.07
                },
                {
                  "index": 105,
                  "Date": "2023-04-28T00:00:00Z",
                  "Value": 999.73
                },
                {
                  "index": 106,
                  "Date": "2023-04-30T00:00:00Z",
                  "Value": 983.41
                },
                {
                  "index": 107,
                  "Date": "2023-05-05T00:00:00Z",
                  "Value": 998.29
                },
                {
                  "index": 108,
                  "Date": "2023-05-12T00:00:00Z",
                  "Value": 983.41
                },
                {
                  "index": 109,
                  "Date": "2023-05-19T00:00:00Z",
                  "Value": 972.45
                },
                {
                  "index": 110,
                  "Date": "2023-05-26T00:00:00Z",
                  "Value": 983.46
                },
                {
                  "index": 111,
                  "Date": "2023-06-02T00:00:00Z",
                  "Value": 1028.7
                },
                {
                  "index": 112,
                  "Date": "2023-06-09T00:00:00Z",
                  "Value": 979.85
                },
                {
                  "index": 113,
                  "Date": "2023-06-16T00:00:00Z",
                  "Value": 934.31
                },
                {
                  "index": 114,
                  "Date": "2023-06-21T00:00:00Z",
                  "Value": 924.29
                },
                {
                  "index": 115,
                  "Date": "2023-06-30T00:00:00Z",
                  "Value": 953.6
                },
                {
                  "index": 116,
                  "Date": "2023-07-07T00:00:00Z",
                  "Value": 931.73
                },
                {
                  "index": 117,
                  "Date": "2023-07-14T00:00:00Z",
                  "Value": 979.11
                },
                {
                  "index": 118,
                  "Date": "2023-07-21T00:00:00Z",
                  "Value": 966.45
                },
                {
                  "index": 119,
                  "Date": "2023-07-28T00:00:00Z",
                  "Value": 1029.23
                }
              ],
              "datalink": {
                "display_id": "834bb96a-167f-4918-9940-eac0ab13cd3c"
              }
            }
          },
          "metadata": {
            "application/vnd.dataresource+json": {
              "datalink": {
                "dataframe_info": {
                  "default_index_used": true,
                  "orig_size_bytes": 2880,
                  "orig_num_rows": 120,
                  "orig_num_cols": 2,
                  "truncated_string_columns": [],
                  "truncated_size_bytes": 2880,
                  "truncated_num_rows": 120,
                  "truncated_num_cols": 2
                },
                "dx_settings": {
                  "NUM_PAST_SAMPLES_TRACKED": 3,
                  "ENABLE_DATALINK": true,
                  "DISPLAY_MODE": "simple",
                  "GENERATE_DEX_METADATA": false,
                  "STRINGIFY_INDEX_VALUES": false,
                  "ALLOW_NOTEABLE_ATTRS": true,
                  "DISPLAY_MAX_COLUMNS": 100,
                  "HTML_TABLE_SCHEMA": false,
                  "SAMPLING_FACTOR": 0.1,
                  "LOG_LEVEL": 30,
                  "ENABLE_ASSIGNMENT": true,
                  "FLATTEN_INDEX_VALUES": false,
                  "DEV_MODE": false,
                  "COLUMN_SAMPLING_METHOD": "outer",
                  "FLATTEN_COLUMN_VALUES": true,
                  "DISPLAY_MAX_ROWS": 50000,
                  "ROW_SAMPLING_METHOD": "random",
                  "RANDOM_STATE": 12648430,
                  "DB_LOCATION": ":memory:",
                  "STRINGIFY_COLUMN_VALUES": true,
                  "SAMPLING_METHOD": "random",
                  "MAX_STRING_LENGTH": 250,
                  "MAX_RENDER_SIZE_BYTES": 104857600,
                  "RESET_INDEX_VALUES": false
                },
                "display_id": "834bb96a-167f-4918-9940-eac0ab13cd3c",
                "applied_filters": [],
                "sample_history": [],
                "sampling_time": "2023-07-30T03:45:46.879748",
                "variable_name": "df_SCFI",
                "user_variable_name": "df_SCFI"
              },
              "display_id": "834bb96a-167f-4918-9940-eac0ab13cd3c"
            }
          }
        }
      ],
      "execution_count": null,
      "metadata": {
        "jupyter": {
          "source_hidden": false,
          "outputs_hidden": false
        },
        "noteable": {
          "cell_type": "code"
        },
        "ExecuteTime": {
          "start_time": "2023-07-30T03:45:46.828394+00:00",
          "end_time": "2023-07-30T03:45:47.043395+00:00"
        },
        "datalink": {
          "834bb96a-167f-4918-9940-eac0ab13cd3c": {
            "dataframe_info": {
              "default_index_used": true,
              "orig_size_bytes": 2880,
              "orig_num_rows": 120,
              "orig_num_cols": 2,
              "truncated_string_columns": [],
              "truncated_size_bytes": 2880,
              "truncated_num_rows": 120,
              "truncated_num_cols": 2
            },
            "dx_settings": {
              "LOG_LEVEL": 30,
              "DEV_MODE": false,
              "DISPLAY_MAX_ROWS": 50000,
              "DISPLAY_MAX_COLUMNS": 100,
              "HTML_TABLE_SCHEMA": false,
              "MAX_RENDER_SIZE_BYTES": 104857600,
              "MAX_STRING_LENGTH": 250,
              "SAMPLING_FACTOR": 0.1,
              "DISPLAY_MODE": "simple",
              "SAMPLING_METHOD": "random",
              "COLUMN_SAMPLING_METHOD": "outer",
              "ROW_SAMPLING_METHOD": "random",
              "RANDOM_STATE": 12648430,
              "RESET_INDEX_VALUES": false,
              "FLATTEN_INDEX_VALUES": false,
              "FLATTEN_COLUMN_VALUES": true,
              "STRINGIFY_INDEX_VALUES": false,
              "STRINGIFY_COLUMN_VALUES": true,
              "ENABLE_DATALINK": true,
              "ENABLE_ASSIGNMENT": true,
              "NUM_PAST_SAMPLES_TRACKED": 3,
              "DB_LOCATION": ":memory:",
              "GENERATE_DEX_METADATA": false,
              "ALLOW_NOTEABLE_ATTRS": true
            },
            "display_id": "834bb96a-167f-4918-9940-eac0ab13cd3c",
            "applied_filters": [],
            "sample_history": [],
            "sampling_time": "2023-07-30T03:45:46.879748",
            "variable_name": "df_SCFI",
            "user_variable_name": "df_SCFI"
          }
        }
      },
      "id": "760b342f-6ed9-444a-a963-d2caaa90aafa"
    },
    {
      "cell_type": "code",
      "source": [
        "# Import the necessary library\n",
        "from prophet import Prophet\n",
        "\n",
        "# Preparing the data for Prophet\n",
        "df_prophet = df_SCFI[['Date', 'Value']].rename(columns={'Date': 'ds', 'Value': 'y'})\n",
        "\n",
        "# Initializing the model\n",
        "model = Prophet()\n",
        "\n",
        "# Fitting the model with the data\n",
        "model.fit(df_prophet)\n",
        "\n",
        "# Creating a dataframe for future predictions\n",
        "future = model.make_future_dataframe(periods=4, freq='W')\n",
        "\n",
        "# Making predictions\n",
        "forecast = model.predict(future)\n",
        "\n",
        "# Plotting the forecast\n",
        "fig, ax = plt.subplots(figsize=(20, 10))\n",
        "\n",
        "# Add labels to the plot\n",
        "ax.plot(df_prophet['ds'], df_prophet['y'], label='Actual', color='black')\n",
        "ax.plot(forecast['ds'], forecast['yhat'], label='Predicted', color='red')\n",
        "\n",
        "# Change the color of the uncertainty intervals\n",
        "ax.fill_between(forecast['ds'], forecast['yhat_lower'], forecast['yhat_upper'], color='lightblue', alpha=0.5)\n",
        "\n",
        "ax.set_title('Forecast of SCFI for the Next 4 Weeks')\n",
        "ax.set_xlabel('Date')\n",
        "ax.set_ylabel('SCFI')\n",
        "\n",
        "# Increase the size and boldness of the legend\n",
        "ax.legend(prop={'size': 14, 'weight': 'bold'})\n",
        "\n",
        "plt.show()\n"
      ],
      "outputs": [
        {
          "output_type": "stream",
          "name": "stderr",
          "text": [
            "04:05:51 - cmdstanpy - INFO - Chain [1] start processing\n"
          ]
        },
        {
          "output_type": "stream",
          "name": "stderr",
          "text": [
            "04:05:51 - cmdstanpy - INFO - Chain [1] done processing\n"
          ]
        },
        {
          "output_type": "display_data",
          "data": {
            "image/png": "[encoded data removed]"
          },
          "metadata": {}
        }
      ],
      "execution_count": null,
      "metadata": {
        "jupyter": {
          "source_hidden": false,
          "outputs_hidden": false
        },
        "noteable": {
          "cell_type": "code"
        },
        "ExecuteTime": {
          "start_time": "2023-07-30T04:05:51.519406+00:00",
          "end_time": "2023-07-30T04:05:52.415879+00:00"
        }
      },
      "id": "29ceda8c-6520-4bd8-ad41-ff1cb3dd59fa"
    }
  ],
  "metadata": {
    "kernel_info": {
      "name": "python3"
    },
    "noteable": {
      "last_delta_id": "bc55771e-35c7-41fd-8cfe-4996681bc41c"
    },
    "kernelspec": {
      "display_name": "Python 3.9",
      "language": "python",
      "name": "python3"
    },
    "selected_hardware_size": "small",
    "nteract": {
      "version": "noteable@2.9.0"
    }
  },
  "nbformat": 4,
  "nbformat_minor": 5
}